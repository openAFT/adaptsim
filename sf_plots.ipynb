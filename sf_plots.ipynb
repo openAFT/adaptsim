{
 "cells": [
  {
   "cell_type": "code",
   "execution_count": null,
   "metadata": {},
   "outputs": [],
   "source": [
    "import pandas as pd\n",
    "import matplotlib.pyplot as plt\n",
    "from matplotlib import cycler\n",
    "import seaborn as sns\n",
    "\n",
    "height = 3.7\n",
    "aspect = 6/height\n",
    "\n",
    "plot_line_cycle = cycler('linestyle', ['-', '--', ':', '-.'])\n",
    "plt.rcParams['figure.dpi'] = 120\n",
    "params = {\"figure.figsize\": [6,3.7],\n",
    "            \"font.size\": 14,\n",
    "            \"legend.handlelength\": 1.4,\n",
    "            \"legend.fontsize\": 11,\n",
    "            \"text.usetex\": True,\n",
    "            \"axes.labelpad\": 10,\n",
    "            \"axes.linewidth\": 1.1,\n",
    "            \"axes.xmargin\": 0.05,\n",
    "            \"axes.prop_cycle\": plot_line_cycle,\n",
    "            \"axes.autolimit_mode\"  : \"data\",\n",
    "            \"xtick.major.size\"     : 7,\n",
    "            \"xtick.minor.size\"     : 3.5,\n",
    "            \"xtick.major.width\"    : 1.1,\n",
    "            \"xtick.minor.width\"    : 1.1,\n",
    "            \"xtick.major.pad\"      : 5,\n",
    "            \"xtick.minor.visible\"  : True,\n",
    "            \"ytick.major.size\"     : 7,\n",
    "            \"ytick.minor.size\"     : 3.5,\n",
    "            \"ytick.major.width\"    : 1.1,\n",
    "            \"ytick.minor.width\"    : 1.1,\n",
    "            \"ytick.major.pad\"      : 5,\n",
    "            \"ytick.minor.visible\"  : True,\n",
    "            \"lines.markersize\"     : 7,\n",
    "            \"lines.markerfacecolor\" : \"none\",\n",
    "            \"lines.markeredgewidth\"  : 0.8}\n",
    "\n",
    "params[\"figure.figsize\"] = [6,4]\n",
    "params[\"font.family\"] =  'serif'\n",
    "params[\"font.sans-serif\"] = 'cm'\n",
    "params[\"axes.linewidth\"] = 1.3\n",
    "params[\"legend.title_fontsize\"] = 11\n",
    "plt.rcParams.update(params)"
   ]
  },
  {
   "cell_type": "code",
   "execution_count": null,
   "metadata": {},
   "outputs": [],
   "source": [
    "df_pre = pd.read_csv('data/sf_clean.csv', sep=',')\n",
    "df = df_pre.loc[(df_pre['patient'] < 31)]\n",
    "adrenal = df.loc[(df['target']=='adrenal_glands')]\n",
    "adrenal_main = adrenal.loc[adrenal['limiting']==1]\n",
    "adrenal_duo = adrenal_main.loc[(adrenal_main['oar']=='duodenum')]\n",
    "pancreas = df.loc[(df['target']=='pancreas')]\n",
    "prostate = df.loc[(df['target']=='boost') | (df['target']=='prostate')]\n",
    "boost = df.loc[(df['target']=='boost')]\n",
    "# df.columns"
   ]
  },
  {
   "cell_type": "code",
   "execution_count": null,
   "metadata": {},
   "outputs": [],
   "source": [
    "def plot_single(data, x, y, hue, x_label=None, y_label=None, minor_ticks=True, palette='Set2'):\n",
    "    ax = sns.scatterplot(data=data, x=x, y=y, hue=hue, palette=palette, alpha=.8)\n",
    "    if not minor_ticks:\n",
    "        ax.tick_params(axis='x', which='minor', bottom=False)\n",
    "    fig = ax.get_figure()\n",
    "    if x_label != None and y_label != None:\n",
    "        ax.set_xlabel(x_label)\n",
    "        ax.set_ylabel(y_label)\n",
    "    ax.legend_.set_title('OAR')\n",
    "    fig.subplots_adjust(left=0.18, bottom=0.2, right=0.93, top=0.95)\n",
    "    return fig\n",
    "\n",
    "def plot_grid(data, x, y, hue, row, x_label=None, y_label=None, palette='Set2'):\n",
    "    fig = sns.FacetGrid(data=data, hue=hue, row=row, height=height, aspect=aspect, palette=palette)\n",
    "    fig.map(sns.scatterplot, x, y, alpha=.8)\n",
    "    fig.despine(top=False, right=False)\n",
    "    fig.add_legend()\n",
    "    fig.legend.set_title('Patient')\n",
    "    if x_label != None and y_label != None:\n",
    "        fig.set_axis_labels(x_label, y_label)\n",
    "    fig.set_titles(\"OAR: {row_name}\")\n",
    "    fig.tight_layout(w_pad=1)\n",
    "    return fig\n",
    "\n",
    "def plot_single_fraction(data, x, y, hue, x_label, y_label, y_twin_label, y_twin=None, palette='Set2'):\n",
    "    fig, ax = plt.subplots()\n",
    "    ax = sns.scatterplot(data=data, x=x, y=y, hue=hue, palette=palette, marker='^')\n",
    "    if y_twin != None:\n",
    "        ax2 = ax.twinx()\n",
    "        sns.lineplot(data=data, x=x, y=y_twin, hue=hue, palette=palette, linestyle='-')\n",
    "        ax2.get_legend().remove()\n",
    "        ax2.invert_yaxis()\n",
    "        ax2.set_ylabel(y_twin)\n",
    "        ax2.set_ylabel(y_twin_label)\n",
    "    ax.set(xlabel=x_label, ylabel=y_label)\n",
    "    ax.legend_.set_title('Patient')\n",
    "    return fig\n",
    "\n",
    "def plot_twin_grid(data, x, y, y_twin, hue, row, x_label=None, y_label=None, y_twin_label=None, palette='Set2'):\n",
    "    palette_dict = dict(zip(data[hue].unique(), sns.color_palette(palette, n_colors=len(data[hue].unique()))))\n",
    "\n",
    "    fig = sns.relplot(data=data, x=x, y=y, hue=hue, row=row, palette=palette_dict, style=hue, markers=['^'], height=height, aspect=aspect)\n",
    "    for index, [oar, ax] in enumerate(fig.axes_dict.items()):\n",
    "        ax2 = ax.twinx()\n",
    "        data_sub = data.loc[data[row]==oar]\n",
    "        sns.lineplot(data=data_sub, x=x, y=y_twin, hue=hue, palette=palette_dict, linestyle='-')\n",
    "        ax2.get_legend().remove()\n",
    "        ax2.invert_yaxis()\n",
    "        ax2.set_ylabel(y_twin_label)\n",
    "    fig.set_axis_labels(x_label, y_label)\n",
    "    fig.legend.set_title('Patient')\n",
    "    fig.set_titles(\"OAR: {row_name} organ\")\n",
    "    fig.tick_params(axis='x', which='minor', bottom=False)\n",
    "    fig.tight_layout(w_pad=1)\n",
    "    return fig"
   ]
  },
  {
   "cell_type": "code",
   "execution_count": null,
   "metadata": {},
   "outputs": [],
   "source": [
    "adrenal_single_d_sf = plot_single(adrenal, 'distance', 'sparing_factor', 'oar', r'$w$ [cm]', r'$\\delta$')"
   ]
  },
  {
   "cell_type": "code",
   "execution_count": null,
   "metadata": {},
   "outputs": [],
   "source": [
    "adrenal_single_pat_sf = plot_single(adrenal_main, 'patient', 'sparing_factor', 'oar', 'Patient', r'$\\delta$', minor_ticks=False)"
   ]
  },
  {
   "cell_type": "code",
   "execution_count": null,
   "metadata": {},
   "outputs": [],
   "source": [
    "adrenal_grid_d_sf = plot_grid(adrenal, 'distance', 'sparing_factor', 'patient', 'oar', r'$w$ [cm]', r'$\\delta$')"
   ]
  },
  {
   "cell_type": "code",
   "execution_count": null,
   "metadata": {},
   "outputs": [],
   "source": [
    "adrenal_grid_f_sf = plot_twin_grid(adrenal_main, 'fraction', 'sparing_factor', 'distance', 'patient', 'oar', r'Fraction $t$', r'$\\delta$', r'$w$ [cm]')"
   ]
  },
  {
   "cell_type": "code",
   "execution_count": null,
   "metadata": {},
   "outputs": [],
   "source": [
    "adrenal_grid_f_sf_dose = plot_twin_grid(adrenal_main, 'fraction', 'sparing_factor', 'd_T', 'patient', 'oar', r'Fraction $t$', r'$\\delta$', '$d_T$ [Gy]')"
   ]
  },
  {
   "cell_type": "code",
   "execution_count": null,
   "metadata": {},
   "outputs": [],
   "source": [
    "def save_plot(fig, basename):\n",
    "    fig.savefig(f'{basename}.pdf', format='pdf')\n",
    "save_plot(adrenal_single_d_sf, '1')\n",
    "save_plot(adrenal_single_pat_sf, '2')\n",
    "save_plot(adrenal_grid_d_sf, '3')\n",
    "save_plot(adrenal_grid_f_sf, '4')\n",
    "save_plot(adrenal_grid_f_sf_dose, '5')"
   ]
  },
  {
   "cell_type": "code",
   "execution_count": null,
   "metadata": {},
   "outputs": [],
   "source": [
    "figurine = plot_single_fraction(prostate, 'fraction', 'sparing_factor', 'patient', r'Fraction $t$', r'$\\delta$', r'$w$ [cm]', 'distance')"
   ]
  },
  {
   "cell_type": "code",
   "execution_count": null,
   "metadata": {},
   "outputs": [],
   "source": [
    "g = sns.FacetGrid(df, hue=\"oar\", col=\"target\")\n",
    "g.map(sns.scatterplot, 'distance', 'sparing_factor', alpha=.7)\n",
    "g.despine(top=False, right=False)\n",
    "g.add_legend()"
   ]
  },
  {
   "cell_type": "code",
   "execution_count": null,
   "metadata": {},
   "outputs": [],
   "source": [
    "pancreas_single_d_sf = plot_single(pancreas, 'distance', 'sparing_factor', 'oar', r'$w$ [cm]', r'$\\delta$')"
   ]
  },
  {
   "cell_type": "code",
   "execution_count": null,
   "metadata": {},
   "outputs": [],
   "source": [
    "adrenal_single_pat_sf = plot_single(pancreas, 'patient', 'sparing_factor', 'oar', 'Patient', r'$\\delta$', minor_ticks=False)"
   ]
  },
  {
   "cell_type": "code",
   "execution_count": null,
   "metadata": {},
   "outputs": [],
   "source": []
  },
  {
   "cell_type": "code",
   "execution_count": null,
   "metadata": {},
   "outputs": [],
   "source": [
    "g = sns.FacetGrid(pancreas, hue=\"patient\", col=\"oar\")\n",
    "g.map(sns.scatterplot, 'distance', 'sparing_factor', alpha=.7)\n",
    "g.despine(top=False, right=False)\n",
    "g.add_legend()\n",
    "g.set_axis_labels(r\"$d$ [cm]\", r\"$\\delta$\")\n",
    "g.set_titles(\"OAR: {col_name} organ\")\n",
    "g.tight_layout(w_pad=1)"
   ]
  },
  {
   "cell_type": "code",
   "execution_count": null,
   "metadata": {},
   "outputs": [],
   "source": [
    "sns.scatterplot(data=prostate, x='distance', y='sparing_factor', hue='target', palette='Set2')"
   ]
  },
  {
   "cell_type": "code",
   "execution_count": null,
   "metadata": {},
   "outputs": [],
   "source": [
    "sns.histplot(df_pre.loc[(df_pre['target']!='prostate')], x='sparing_factor', hue='target', bins=13, element='step')"
   ]
  },
  {
   "cell_type": "code",
   "execution_count": null,
   "metadata": {},
   "outputs": [],
   "source": []
  }
 ],
 "metadata": {
  "kernelspec": {
   "display_name": "jupyter_env",
   "language": "python",
   "name": "python3"
  },
  "language_info": {
   "codemirror_mode": {
    "name": "ipython",
    "version": 3
   },
   "file_extension": ".py",
   "mimetype": "text/x-python",
   "name": "python",
   "nbconvert_exporter": "python",
   "pygments_lexer": "ipython3",
   "version": "3.10.10"
  },
  "orig_nbformat": 4,
  "vscode": {
   "interpreter": {
    "hash": "30ce067b636a24f320aa847115befe89001ce5f4e960f6a715ab2fc5b02e5185"
   }
  }
 },
 "nbformat": 4,
 "nbformat_minor": 2
}
