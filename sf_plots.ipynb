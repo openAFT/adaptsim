{
 "cells": [
  {
   "cell_type": "code",
   "execution_count": null,
   "metadata": {},
   "outputs": [],
   "source": [
    "import pandas as pd\n",
    "import matplotlib.pyplot as plt\n",
    "import seaborn as sns\n",
    "import adaptsim as afs\n",
    "\n",
    "params = afs.RCPARAMS\n",
    "params[\"figure.dpi\"] = 60\n",
    "params[\"font.family\"] =  'serif'\n",
    "params[\"axes.linewidth\"] = 1.3\n",
    "plt.rcParams.update(params)"
   ]
  },
  {
   "cell_type": "code",
   "execution_count": null,
   "metadata": {},
   "outputs": [],
   "source": [
    "df_pre = pd.read_csv('data/sf_clean.csv', sep=',')\n",
    "df = df_pre.loc[(df_pre['patient'] < 31)]\n",
    "adrenal = df.loc[(df['target']=='adrenal_glands')]\n",
    "adrenal_main = adrenal.loc[adrenal['limiting']==1]\n",
    "adrenal_duo = adrenal_main.loc[(adrenal_main['oar']=='duodenum')]\n",
    "pancreas = df.loc[(df['target']=='pancreas')]\n",
    "prostate = df.loc[(df['target']=='boost') | (df['target']=='prostate')]\n",
    "boost = df.loc[(df['target']=='boost')]\n",
    "# df.columns"
   ]
  },
  {
   "cell_type": "code",
   "execution_count": null,
   "metadata": {},
   "outputs": [],
   "source": [
    "adrenal_single_d_sf = afs.plot_single(adrenal, 'distance', 'sparing_factor', 'oar', r'$w$ [cm]', r'$\\delta$', True, 'Set2', params)"
   ]
  },
  {
   "cell_type": "code",
   "execution_count": null,
   "metadata": {},
   "outputs": [],
   "source": [
    "adrenal_single_pat_sf = afs.plot_single(adrenal, 'patient', 'sparing_factor', 'oar', 'Patient', r'$\\delta$', False, 'Set2', params)"
   ]
  },
  {
   "cell_type": "code",
   "execution_count": null,
   "metadata": {},
   "outputs": [],
   "source": [
    "adrenal_grid_d_sf = afs.plot_grid(adrenal, 'distance', 'sparing_factor', 'patient', 'oar', r'$w$ [cm]', r'$\\delta$', 'colorblind', params)"
   ]
  },
  {
   "cell_type": "code",
   "execution_count": null,
   "metadata": {},
   "outputs": [],
   "source": [
    "adrenal_grid_f_sf = afs.plot_twin_grid(adrenal_main, 'fraction', 'sparing_factor', 'distance', 'patient', 'oar', r'Fraction $t$', r'$\\delta$', r'$w$ [cm]', 'colorblind', params)"
   ]
  },
  {
   "cell_type": "code",
   "execution_count": null,
   "metadata": {},
   "outputs": [],
   "source": [
    "# adrenal_grid_f_sf_dose = afs.plot_twin_grid(adrenal_main, 'fraction', 'sparing_factor', 'd_T', 'patient', 'oar', r'Fraction $t$', r'$\\delta$', '$d_T$ [Gy]')"
   ]
  },
  {
   "cell_type": "code",
   "execution_count": null,
   "metadata": {},
   "outputs": [],
   "source": [
    "figurine = afs.plot_single_fraction(prostate, 'fraction', 'sparing_factor', 'patient', r'Fraction $t$', r'$\\delta$', r'$w$ [cm]', 'distance', 'Set1', params)"
   ]
  },
  {
   "cell_type": "code",
   "execution_count": null,
   "metadata": {},
   "outputs": [],
   "source": [
    "g = sns.FacetGrid(df, hue=\"oar\", col=\"target\")\n",
    "g.map(sns.scatterplot, 'distance', 'sparing_factor', alpha=.7)\n",
    "g.despine(top=False, right=False)\n",
    "g.add_legend()"
   ]
  },
  {
   "cell_type": "code",
   "execution_count": null,
   "metadata": {},
   "outputs": [],
   "source": [
    "pancreas_single_d_sf = afs.plot_single(pancreas, 'distance', 'sparing_factor', 'oar', r'$w$ [cm]', r'$\\delta$', params)"
   ]
  },
  {
   "cell_type": "code",
   "execution_count": null,
   "metadata": {},
   "outputs": [],
   "source": [
    "adrenal_single_pat_sf = afs.plot_single(pancreas, 'patient', 'sparing_factor', 'oar', 'Patient', r'$\\delta$', minor_ticks=False, plot_sets=params)"
   ]
  },
  {
   "cell_type": "code",
   "execution_count": null,
   "metadata": {},
   "outputs": [],
   "source": [
    "sns.scatterplot(data=prostate, x='distance', y='sparing_factor', hue='target', palette='Set2')"
   ]
  },
  {
   "cell_type": "code",
   "execution_count": null,
   "metadata": {},
   "outputs": [],
   "source": [
    "sns.histplot(df_pre.loc[(df_pre['target']!='prostate')], x='sparing_factor', hue='target', bins=13, element='step')"
   ]
  },
  {
   "cell_type": "code",
   "execution_count": null,
   "metadata": {},
   "outputs": [],
   "source": []
  }
 ],
 "metadata": {
  "kernelspec": {
   "display_name": "jupyter_env",
   "language": "python",
   "name": "python3"
  },
  "language_info": {
   "codemirror_mode": {
    "name": "ipython",
    "version": 3
   },
   "file_extension": ".py",
   "mimetype": "text/x-python",
   "name": "python",
   "nbconvert_exporter": "python",
   "pygments_lexer": "ipython3",
   "version": "3.10.10"
  },
  "orig_nbformat": 4,
  "vscode": {
   "interpreter": {
    "hash": "30ce067b636a24f320aa847115befe89001ce5f4e960f6a715ab2fc5b02e5185"
   }
  }
 },
 "nbformat": 4,
 "nbformat_minor": 2
}
