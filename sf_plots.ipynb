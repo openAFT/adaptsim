{
 "cells": [
  {
   "cell_type": "code",
   "execution_count": null,
   "metadata": {},
   "outputs": [],
   "source": [
    "import numpy as np\n",
    "import pandas as pd\n",
    "import matplotlib.colors as colors\n",
    "import matplotlib.pyplot as plt\n",
    "import seaborn as sns"
   ]
  },
  {
   "cell_type": "code",
   "execution_count": null,
   "metadata": {},
   "outputs": [],
   "source": [
    "plt.rcParams['figure.figsize'] = [6, 4]\n",
    "plt.rcParams['figure.dpi'] = 60"
   ]
  },
  {
   "cell_type": "code",
   "execution_count": null,
   "metadata": {},
   "outputs": [],
   "source": [
    "df_pre = pd.read_csv('data/sf_clean.csv', sep=',')\n",
    "df = df_pre.loc[(df_pre['patient'] < 31)]\n",
    "adrenal = df.loc[(df['target']=='adrenal_glands')]\n",
    "boost = df.loc[(df['target']=='boost')]\n",
    "pancreas = df.loc[(df['target']=='pancreas')]\n",
    "# df.columns"
   ]
  },
  {
   "cell_type": "code",
   "execution_count": null,
   "metadata": {},
   "outputs": [],
   "source": [
    "sns.scatterplot(data=adrenal, x='distance', y='sparing_factor', hue='patient', palette='Set1')"
   ]
  },
  {
   "cell_type": "code",
   "execution_count": null,
   "metadata": {},
   "outputs": [],
   "source": [
    "g = sns.FacetGrid(adrenal, hue=\"patient\", col=\"oar\")\n",
    "g.map(sns.scatterplot, 'distance', 'sparing_factor', alpha=.7)\n",
    "g.add_legend()"
   ]
  },
  {
   "cell_type": "code",
   "execution_count": null,
   "metadata": {},
   "outputs": [],
   "source": [
    "g = sns.FacetGrid(adrenal, hue=\"patient\", row='main_oar', col=\"oar\")\n",
    "g.map(sns.scatterplot, 'distance', 'sparing_factor', alpha=.7)\n",
    "g.add_legend()"
   ]
  },
  {
   "cell_type": "code",
   "execution_count": null,
   "metadata": {},
   "outputs": [],
   "source": [
    "adrenal_main = adrenal.loc[adrenal['limiting']==1]\n",
    "fig, ax1 = plt.subplots()\n",
    "\n",
    "ax1 = sns.scatterplot(data=adrenal_main, x='patient', y='sparing_factor', hue='oar', palette='Set2')"
   ]
  },
  {
   "cell_type": "code",
   "execution_count": null,
   "metadata": {},
   "outputs": [],
   "source": [
    "fig, ax1 = plt.subplots()\n",
    "\n",
    "adrenal_oar = adrenal_main.loc[(adrenal_main['oar']=='duodenum')]\n",
    "\n",
    "sns.scatterplot(data=adrenal_oar, x='fraction', y='sparing_factor', hue='patient', palette='Set1', ax=ax1)\n",
    "ax2 = ax1.twinx()\n",
    "ax2 = sns.scatterplot(data=adrenal_oar, x='fraction', y='distance', hue='patient', palette='Set1', marker='x')\n",
    "ax2.invert_yaxis()"
   ]
  },
  {
   "cell_type": "code",
   "execution_count": null,
   "metadata": {},
   "outputs": [],
   "source": [
    "sns.relplot(data=adrenal_main, x='fraction', y='sparing_factor', hue='patient', palette='Set1', kind='line')\n",
    "\n",
    "# adrenal_main.plot(x='fraction', y='sparing_factor', kind='line', label='patient')\n",
    "\n",
    "# for name, group in adrenal_main.groupby(\"patient\"):\n",
    "#     plt.plot(group.fraction, group.sparing_factor, marker='.', linewidth=2, alpha=0.9, label=name)\n",
    "# plt.legend()\n",
    "\n",
    "# sns.lmplot(data=adrenal_main, x=\"distance\", y=\"sparing_factor\", hue=\"patient\")"
   ]
  },
  {
   "cell_type": "code",
   "execution_count": null,
   "metadata": {},
   "outputs": [],
   "source": [
    "g = sns.FacetGrid(df.loc[df['target']!='adrenal_glands'], hue=\"patient\", col=\"target\")\n",
    "g.map(sns.scatterplot, 'distance', 'sparing_factor', alpha=.7)\n",
    "g.add_legend()"
   ]
  },
  {
   "cell_type": "code",
   "execution_count": null,
   "metadata": {},
   "outputs": [],
   "source": [
    "sns.scatterplot(data=df.loc[(df['target']=='pancreas')], x='distance', y='sparing_factor', hue='patient', palette='Set1')"
   ]
  },
  {
   "cell_type": "code",
   "execution_count": null,
   "metadata": {},
   "outputs": [],
   "source": [
    "# sns.histplot(df_filtered['sparing_factor'], bins=21)"
   ]
  },
  {
   "cell_type": "code",
   "execution_count": null,
   "metadata": {},
   "outputs": [],
   "source": [
    "# frac = df_filtered['fraction'].values\n",
    "# emap = colors.ListedColormap(['red', 'green'])\n",
    "# sns.scatterplot('distance', 'sparing_factor',\n",
    "#                 hue='oar', data=frac, palette='Set1')\n",
    "# frac_scat = plt.scatter(df_filtered['distance'], df_filtered['sparing_factor'], c=frac)"
   ]
  },
  {
   "cell_type": "code",
   "execution_count": null,
   "metadata": {},
   "outputs": [],
   "source": []
  }
 ],
 "metadata": {
  "kernelspec": {
   "display_name": "jupyter_env",
   "language": "python",
   "name": "python3"
  },
  "language_info": {
   "codemirror_mode": {
    "name": "ipython",
    "version": 3
   },
   "file_extension": ".py",
   "mimetype": "text/x-python",
   "name": "python",
   "nbconvert_exporter": "python",
   "pygments_lexer": "ipython3",
   "version": "3.10.9 (main, Dec 15 2022, 18:25:35) [Clang 14.0.0 (clang-1400.0.29.202)]"
  },
  "orig_nbformat": 4,
  "vscode": {
   "interpreter": {
    "hash": "30ce067b636a24f320aa847115befe89001ce5f4e960f6a715ab2fc5b02e5185"
   }
  }
 },
 "nbformat": 4,
 "nbformat_minor": 2
}
