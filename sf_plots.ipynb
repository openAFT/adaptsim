{
 "cells": [
  {
   "cell_type": "code",
   "execution_count": null,
   "metadata": {},
   "outputs": [],
   "source": [
    "import numpy as np\n",
    "import pandas as pd\n",
    "import matplotlib\n",
    "import matplotlib.colors as colors\n",
    "import matplotlib.pyplot as plt\n",
    "from matplotlib import cycler\n",
    "import seaborn as sns\n",
    "# matplotlib.font_manager.findSystemFonts()\n",
    "\n",
    "plot_line_cycle = cycler('linestyle', ['-', '--', ':', '-.'])\n",
    "plt.rcParams['figure.dpi'] = 60\n",
    "params = {\"figure.figsize\": [6,4],\n",
    "            \"text.usetex\": False,\n",
    "            \"font.size\": 14,\n",
    "            \"text.usetex\": False,\n",
    "            \"axes.labelpad\": 10,\n",
    "            \"axes.linewidth\": 1.1,\n",
    "            \"axes.xmargin\": 0.05,\n",
    "            \"axes.prop_cycle\": plot_line_cycle,\n",
    "            \"axes.autolimit_mode\"  : \"data\",\n",
    "            \"xtick.major.size\"     : 7,\n",
    "            \"xtick.minor.size\"     : 3.5,\n",
    "            \"xtick.major.width\"    : 1.1,\n",
    "            \"xtick.minor.width\"    : 1.1,\n",
    "            \"xtick.major.pad\"      : 5,\n",
    "            \"xtick.minor.visible\"  : True,\n",
    "            \"ytick.major.size\"     : 7,\n",
    "            \"ytick.minor.size\"     : 3.5,\n",
    "            \"ytick.major.width\"    : 1.1,\n",
    "            \"ytick.minor.width\"    : 1.1,\n",
    "            \"ytick.major.pad\"      : 5,\n",
    "            \"ytick.minor.visible\"  : True,\n",
    "            \"lines.markersize\"     : 7,\n",
    "            \"lines.markerfacecolor\" : \"none\",\n",
    "            \"lines.markeredgewidth\"  : 0.8}\n",
    "plt.rcParams.update(params)"
   ]
  },
  {
   "cell_type": "code",
   "execution_count": null,
   "metadata": {},
   "outputs": [],
   "source": [
    "df_pre = pd.read_csv('data/sf_clean.csv', sep=',')\n",
    "df = df_pre.loc[(df_pre['patient'] < 31)]\n",
    "adrenal = df.loc[(df['target']=='adrenal_glands')]\n",
    "adrenal_main = adrenal.loc[adrenal['limiting']==1]\n",
    "adrenal_duo = adrenal_main.loc[(adrenal_main['oar']=='duodenum')]\n",
    "pancreas = df.loc[(df['target']=='pancreas')]\n",
    "pro_boost = df.loc[(df['target']=='boost') | (df['target']=='prostate')]\n",
    "# df.columns"
   ]
  },
  {
   "cell_type": "code",
   "execution_count": null,
   "metadata": {},
   "outputs": [],
   "source": [
    "def plot_single(data, x, y, hue, x_label=None, y_label=None, minor_ticks=True, palette='Set2'):\n",
    "    ax = sns.scatterplot(data=data, x=x, y=y, hue=hue, palette=palette)\n",
    "    if not minor_ticks:\n",
    "        ax.tick_params(axis='x', which='minor', bottom=False)\n",
    "    fig = ax.get_figure()\n",
    "    if x_label != None and y_label != None:\n",
    "        ax.set_xlabel(x_label)\n",
    "        ax.set_ylabel(y_label)\n",
    "    return fig\n",
    "\n",
    "def plot_grid(data, x, y, hue, row, x_label=None, y_label=None, palette='Set2'):\n",
    "    fig = sns.FacetGrid(data=data, hue=hue, row=row)\n",
    "    fig.map(sns.scatterplot, x, y, alpha=.7)\n",
    "    fig.despine(top=False, right=False)\n",
    "    fig.add_legend()\n",
    "    if x_label != None and y_label != None:\n",
    "        fig.set_axis_labels(r\"$d$ [cm]\", r\"$\\delta$\")\n",
    "    fig.set_titles(\"OAR: {row_name}\")\n",
    "    fig.tight_layout(w_pad=1)\n",
    "    return fig"
   ]
  },
  {
   "cell_type": "code",
   "execution_count": null,
   "metadata": {},
   "outputs": [],
   "source": [
    "adrenal_single_d_sf = plot_single(adrenal, 'distance', 'sparing_factor', 'oar', r'$d$[cm]', r'$\\delta$')"
   ]
  },
  {
   "cell_type": "code",
   "execution_count": null,
   "metadata": {},
   "outputs": [],
   "source": [
    "adrenal_single_pat_sf = plot_single(adrenal_main, 'patient', 'sparing_factor', 'oar', 'Patient', r'$\\delta$', minor_ticks=False)"
   ]
  },
  {
   "cell_type": "code",
   "execution_count": null,
   "metadata": {},
   "outputs": [],
   "source": [
    "adrenal_grid_d_sf = plot_grid(adrenal, 'distance', 'sparing_factor', 'patient', 'oar', r'$d$[cm]', r'$\\delta$')"
   ]
  },
  {
   "cell_type": "code",
   "execution_count": null,
   "metadata": {},
   "outputs": [],
   "source": [
    "# g = sns.FacetGrid(adrenal, hue=\"patient\", row='main_oar', col=\"oar\")\n",
    "# g.map(sns.scatterplot, 'distance', 'sparing_factor', alpha=.7)\n",
    "# g.add_legend()"
   ]
  },
  {
   "cell_type": "code",
   "execution_count": null,
   "metadata": {},
   "outputs": [],
   "source": [
    "fig, ax1 = plt.subplots()\n",
    "ax1 = sns.lineplot(data=adrenal_duo, x='fraction', y='sparing_factor', hue='patient', palette='Set2')\n",
    "ax2 = ax1.twinx()\n",
    "ax2 = sns.lineplot(data=adrenal_duo, x='fraction', y='distance', hue='patient', palette='Set2', linestyle='--')\n",
    "ax2.invert_yaxis()"
   ]
  },
  {
   "cell_type": "code",
   "execution_count": null,
   "metadata": {},
   "outputs": [],
   "source": [
    "# fig, ax1 = plt.subplots()\n",
    "\n",
    "# sns.scatterplot(data=adrenal_oar, x='fraction', y='sparing_factor', hue='patient', palette='Set1', ax=ax1)\n",
    "# ax2 = ax1.twinx()\n",
    "# ax2 = sns.scatterplot(data=adrenal_oar, x='fraction', y='distance', hue='patient', palette='Set1', marker='x')\n",
    "# ax2.invert_yaxis()"
   ]
  },
  {
   "cell_type": "code",
   "execution_count": null,
   "metadata": {},
   "outputs": [],
   "source": [
    "Set1_dict = dict(zip(adrenal_main['patient'].unique(), sns.color_palette('Set1', n_colors=len(adrenal_main['patient'].unique()))))\n",
    "\n",
    "fig2 = sns.relplot(data=adrenal_main, x='fraction', y='sparing_factor', hue='patient', col='oar', palette=Set1_dict, style='patient', markers=['^'])\n",
    "\n",
    "for index, [oar, ax] in enumerate(fig2.axes_dict.items()):\n",
    "    ax2 = ax.twinx()\n",
    "    sns.lineplot(data=adrenal_main.loc[adrenal_main['oar']==oar], x='fraction', y='distance', hue='patient', palette=Set1_dict, linestyle='--')\n",
    "    ax2.get_legend().remove()\n",
    "    ax2.invert_yaxis()\n",
    "    ax2.set_ylabel('') if index!= 2 else ax2.set_ylabel(r\"distance [cm]\")\n",
    "\n",
    "fig2.set_axis_labels(r\"Fraction $t$\", r\"$\\delta$\")\n",
    "fig2.set_titles(\"OAR: {col_name} organ\")\n",
    "fig2.tight_layout(w_pad=1)\n"
   ]
  },
  {
   "cell_type": "code",
   "execution_count": null,
   "metadata": {},
   "outputs": [],
   "source": [
    "Set1_dict = dict(zip(adrenal_main['patient'].unique(), sns.color_palette('Set1', n_colors=len(adrenal_main['patient'].unique()))))\n",
    "\n",
    "fig2 = sns.relplot(data=adrenal_main, x='fraction', y='sparing_factor', hue='patient', col='oar', palette=Set1_dict, kind='line')\n",
    "\n",
    "for index, [oar, ax] in enumerate(fig2.axes_dict.items()):\n",
    "    ax2 = ax.twinx()\n",
    "    sns.lineplot(data=adrenal_main.loc[adrenal_main['oar']==oar], x='fraction', y='d_T', hue='patient', palette=Set1_dict, linestyle='--')\n",
    "    ax2.get_legend().remove()\n",
    "    ax2.invert_yaxis()\n",
    "    ax2.set_ylabel('') if index!= 2 else ax2.set_ylabel(r\"dose $d$ [Gy]\")\n",
    "\n",
    "fig2.set_axis_labels(r\"Fraction $t$\", r\"$\\delta$\")\n",
    "fig2.set_titles(\"OAR: {col_name} organ\")\n",
    "fig2.tight_layout(w_pad=1)\n"
   ]
  },
  {
   "cell_type": "code",
   "execution_count": null,
   "metadata": {},
   "outputs": [],
   "source": [
    "g = sns.FacetGrid(df, hue=\"oar\", col=\"target\")\n",
    "g.map(sns.scatterplot, 'distance', 'sparing_factor', alpha=.7)\n",
    "g.despine(top=False, right=False)\n",
    "g.add_legend()"
   ]
  },
  {
   "cell_type": "code",
   "execution_count": null,
   "metadata": {},
   "outputs": [],
   "source": [
    "pancreas_single_d_sf = plot_single(pancreas, 'distance', 'sparing_factor', 'oar', r'$d$[cm]', r'$\\delta$')"
   ]
  },
  {
   "cell_type": "code",
   "execution_count": null,
   "metadata": {},
   "outputs": [],
   "source": [
    "adrenal_single_pat_sf = plot_single(pancreas, 'patient', 'sparing_factor', 'oar', 'Patient', r'$\\delta$', minor_ticks=False)"
   ]
  },
  {
   "cell_type": "code",
   "execution_count": null,
   "metadata": {},
   "outputs": [],
   "source": [
    "g = sns.FacetGrid(pancreas, hue=\"patient\", col=\"oar\")\n",
    "g.map(sns.scatterplot, 'distance', 'sparing_factor', alpha=.7)\n",
    "g.despine(top=False, right=False)\n",
    "g.add_legend()\n",
    "g.set_axis_labels(r\"$d$ [cm]\", r\"$\\delta$\")\n",
    "g.set_titles(\"OAR: {col_name} organ\")\n",
    "g.tight_layout(w_pad=1)"
   ]
  },
  {
   "cell_type": "code",
   "execution_count": null,
   "metadata": {},
   "outputs": [],
   "source": [
    "sns.scatterplot(data=pro_boost, x='distance', y='sparing_factor', hue='target', palette='Set2')"
   ]
  },
  {
   "cell_type": "code",
   "execution_count": null,
   "metadata": {},
   "outputs": [],
   "source": [
    "sns.scatterplot(data=pro_boost, x='patient', y='sparing_factor', hue='target', palette='Set1')"
   ]
  },
  {
   "cell_type": "code",
   "execution_count": null,
   "metadata": {},
   "outputs": [],
   "source": [
    "fig3, ax1 = plt.subplots()\n",
    "ax1 = sns.lineplot(data=df.loc[(df['target']=='boost')], x='fraction', y='sparing_factor', hue='patient', palette='Set2')\n",
    "ax2 = ax1.twinx()\n",
    "ax2 = sns.lineplot(data=df.loc[(df['target']=='boost')], x='fraction', y='distance', hue='patient', palette='Set2', linestyle='--')\n",
    "ax2.invert_yaxis()"
   ]
  },
  {
   "cell_type": "code",
   "execution_count": null,
   "metadata": {},
   "outputs": [],
   "source": [
    "# sns.histplot(df_filtered['sparing_factor'], bins=21)"
   ]
  },
  {
   "cell_type": "code",
   "execution_count": null,
   "metadata": {},
   "outputs": [],
   "source": [
    "# frac = df_filtered['fraction'].values\n",
    "# emap = colors.ListedColormap(['red', 'green'])\n",
    "# sns.scatterplot('distance', 'sparing_factor',\n",
    "#                 hue='oar', data=frac, palette='Set1')\n",
    "# frac_scat = plt.scatter(df_filtered['distance'], df_filtered['sparing_factor'], c=frac)"
   ]
  },
  {
   "cell_type": "code",
   "execution_count": null,
   "metadata": {},
   "outputs": [],
   "source": []
  }
 ],
 "metadata": {
  "kernelspec": {
   "display_name": "jupyter_env",
   "language": "python",
   "name": "python3"
  },
  "language_info": {
   "codemirror_mode": {
    "name": "ipython",
    "version": 3
   },
   "file_extension": ".py",
   "mimetype": "text/x-python",
   "name": "python",
   "nbconvert_exporter": "python",
   "pygments_lexer": "ipython3",
   "version": "3.10.9"
  },
  "orig_nbformat": 4,
  "vscode": {
   "interpreter": {
    "hash": "30ce067b636a24f320aa847115befe89001ce5f4e960f6a715ab2fc5b02e5185"
   }
  }
 },
 "nbformat": 4,
 "nbformat_minor": 2
}
