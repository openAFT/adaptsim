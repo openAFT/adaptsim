{
 "cells": [
  {
   "cell_type": "code",
   "execution_count": 48,
   "metadata": {},
   "outputs": [],
   "source": [
    "from scipy.stats import norm\n",
    "import numpy as np\n",
    "import adaptfx as afx\n",
    "import pandas as pd"
   ]
  },
  {
   "cell_type": "code",
   "execution_count": 49,
   "metadata": {},
   "outputs": [],
   "source": [
    "def fit_normal_mean(sf_data):\n",
    "    \"\"\"\n",
    "    fits the shape and scale parameters for a normal distribution\n",
    "\n",
    "    Parameters\n",
    "    ----------\n",
    "    sf_data : array\n",
    "        a nxk matrix with n the amount of patients and k the amount\n",
    "        of sparing factors per patient\n",
    "\n",
    "    Returns\n",
    "    -------\n",
    "    list\n",
    "        mean and standard deviation hyperparameter\n",
    "    \"\"\"\n",
    "    means = np.mean(sf_data, axis=1)\n",
    "    mean, std = norm.fit(means)\n",
    "    return [mean, std]"
   ]
  },
  {
   "cell_type": "code",
   "execution_count": 50,
   "metadata": {},
   "outputs": [],
   "source": [
    "df_pre = pd.read_csv('data/sf_clean.csv', sep=',')\n",
    "df = df_pre.loc[(df_pre['Patient'] < 31)]\n",
    "adrenal = df.loc[(df['Target']=='Adrenal Glands') & (df['Limiting']==1)]\n",
    "pancreas = df.loc[(df['Target']=='Pancreas') & (df['Limiting']==1)]\n",
    "prostate = df.loc[(df['OAR']=='Rectum') & (df['Limiting']==1)]"
   ]
  },
  {
   "cell_type": "code",
   "execution_count": 51,
   "metadata": {},
   "outputs": [],
   "source": [
    "def parameter_fit(data_sf):\n",
    "    n_frac = int(data_sf['Fraction'].max() + 1)\n",
    "    pre_sf_array = data_sf['sparing_factor'].to_numpy(dtype='float', copy=True)\n",
    "    m = len(pre_sf_array)\n",
    "    n_patients = int(m / n_frac)\n",
    "    sf_array = np.reshape(pre_sf_array, (n_patients, n_frac))\n",
    "    [mean_mean, std_mean] = fit_normal_mean(sf_array)\n",
    "    [shape, scale] = afx.fit_gamma_prior(sf_array)\n",
    "    return [mean_mean, std_mean, shape, scale]"
   ]
  },
  {
   "cell_type": "code",
   "execution_count": 52,
   "metadata": {},
   "outputs": [
    {
     "data": {
      "text/plain": [
       "[0.6556666666666666,\n",
       " 0.2720326777756264,\n",
       " 6.4030496771870675,\n",
       " 0.005188130993396964]"
      ]
     },
     "execution_count": 52,
     "metadata": {},
     "output_type": "execute_result"
    }
   ],
   "source": [
    "parameter_fit(adrenal)"
   ]
  },
  {
   "cell_type": "code",
   "execution_count": 53,
   "metadata": {},
   "outputs": [
    {
     "name": "stdout",
     "output_type": "stream",
     "text": [
      "OAR\n",
      "Bowel       0.854444\n",
      "Duodenum    0.820833\n",
      "Stomach     0.884167\n",
      "Name: sparing_factor, dtype: float64\n",
      "OAR\n",
      "Bowel       0.053322\n",
      "Duodenum    0.030855\n",
      "Stomach     0.050015\n",
      "Name: sparing_factor, dtype: float64\n",
      "OAR\n",
      "Bowel       0.711111\n",
      "Duodenum    0.586250\n",
      "Stomach     0.692778\n",
      "Name: sparing_factor, dtype: float64\n",
      "OAR\n",
      "Bowel       0.031708\n",
      "Duodenum    0.043485\n",
      "Stomach     0.031614\n",
      "Name: sparing_factor, dtype: float64\n",
      "Target\n",
      "Boost       0.931667\n",
      "Prostate    1.024333\n",
      "Name: sparing_factor, dtype: float64\n",
      "Target\n",
      "Boost       0.015298\n",
      "Prostate    0.014390\n",
      "Name: sparing_factor, dtype: float64\n"
     ]
    }
   ],
   "source": [
    "def get_variation_oar(data_sf, oar_target):\n",
    "    print(data_sf.groupby(oar_target)['sparing_factor'].mean())\n",
    "    patient_sf = data_sf.groupby(['Patient', oar_target])['sparing_factor'].std()\n",
    "    patient_sf = patient_sf.reset_index(name='sparing_factor')\n",
    "    print(patient_sf.groupby(oar_target)['sparing_factor'].mean())\n",
    "    return None\n",
    "get_variation_oar(pancreas, 'OAR')\n",
    "get_variation_oar(adrenal, 'OAR')\n",
    "get_variation_oar(prostate, 'Target')"
   ]
  },
  {
   "cell_type": "code",
   "execution_count": null,
   "metadata": {},
   "outputs": [],
   "source": [
    "def sample_normal(mu, std, n, k):\n",
    "    samples = np.random.normal(loc=mu, scale=std, size=(n,k))\n",
    "\n",
    "    return samples\n",
    "\n",
    "fit_samples = sample_normal(0.9, 0.04, 200, 6)\n",
    "\n",
    "[shape_var, scale_var] = afx.fit_invgamma_prior(fit_samples)\n",
    "[shape_std, scale_std] = afx.fit_invgamma_prior_std(fit_samples)\n",
    "\n",
    "model_samples = sample_normal(0.9, 0.04, 1, 6)\n",
    "afx.student_t(model_samples, shape_var, scale_var)\n",
    "afx.student_t_std(model_samples, shape_std, scale_std)"
   ]
  }
 ],
 "metadata": {
  "kernelspec": {
   "display_name": "jupyter_env",
   "language": "python",
   "name": "python3"
  },
  "language_info": {
   "codemirror_mode": {
    "name": "ipython",
    "version": 3
   },
   "file_extension": ".py",
   "mimetype": "text/x-python",
   "name": "python",
   "nbconvert_exporter": "python",
   "pygments_lexer": "ipython3",
   "version": "3.10.8"
  },
  "orig_nbformat": 4,
  "vscode": {
   "interpreter": {
    "hash": "d70ca5a0fe0aa3679779630fb27748f3d25c03ffc2d1572835efc46c6410a607"
   }
  }
 },
 "nbformat": 4,
 "nbformat_minor": 2
}
